{
 "cells": [
  {
   "cell_type": "code",
   "execution_count": 1,
   "metadata": {},
   "outputs": [],
   "source": [
    "import os\n",
    "import matplotlib.pyplot as plt\n",
    "import pathlib\n",
    "import PIL\n",
    "\n",
    "# Data Manipulation\n",
    "import numpy as np\n",
    "import pandas as pd\n",
    "\n",
    "# Deep Learning\n",
    "import tensorflow as tf\n",
    "import tensorflow_datasets as tfds\n",
    "\n",
    "# TensorFlow\n",
    "from tensorflow.keras import Sequential, layers\n",
    "from tensorflow.keras.callbacks import EarlyStopping\n",
    "from tensorflow.keras.layers import Normalization\n",
    "from tensorflow.keras.layers.experimental import preprocessing\n",
    "from tensorflow.keras.preprocessing import image_dataset_from_directory\n",
    "from tensorflow.keras.wrappers.scikit_learn import KerasClassifier\n",
    "from tensorflow.keras import models, layers\n",
    "\n",
    "\n",
    "# Sklearn\n",
    "from sklearn import set_config\n",
    "set_config(display=\"diagram\")\n",
    "\n",
    "from sklearn.compose import make_column_transformer, make_column_selector\n",
    "from sklearn.model_selection import train_test_split, cross_val_score, GridSearchCV\n",
    "from sklearn.pipeline import make_pipeline\n",
    "\n",
    "\n",
    "# 1 - DATA MANIPULATION\n",
    "import pandas as pd\n",
    "import numpy as np\n",
    "\n",
    "# 2 - DATA VISUALISATION\n",
    "import matplotlib.pyplot as plt\n",
    "import seaborn as sns\n",
    "\n",
    "# 3 - STATISTICS\n",
    "from statsmodels.graphics.gofplots import qqplot\n",
    "\n",
    "# 4 - MACHINE LEARNING\n",
    "## 4.1 - Preprocessing\n",
    "\n",
    "### 4.1.1 - Scalers\n",
    "from sklearn.preprocessing import StandardScaler, RobustScaler, MinMaxScaler\n",
    "\n",
    "\n",
    "### 4.1.3 - Crossvalidation, Training, Model\n",
    "from sklearn.model_selection import cross_validate\n",
    "from sklearn.model_selection import train_test_split\n",
    "\n",
    "\n",
    "import numpy as np\n",
    "import pandas as pd\n",
    "import matplotlib.pyplot as plt\n",
    "import seaborn as sns\n",
    "from sklearn.model_selection import train_test_split\n",
    "\n",
    "\n",
    "# Make all figures tiny for readability purpose\n",
    "from matplotlib import rcParams\n",
    "rcParams['figure.figsize'] = (5,3)\n",
    "import macrobond_data_api as mda\n",
    "from macrobond_data_api.web import WebClient\n",
    "\n",
    "from macrobond_data_api.web import WebClient\n",
    "from macrobond_data_api.common.types import SearchFilter\n",
    "\n",
    "from sklearn.pipeline import make_pipeline\n",
    "from sklearn.pipeline import Pipeline\n",
    "import numpy as np\n",
    "\n",
    "from sklearn.pipeline import Pipeline, make_pipeline\n",
    "from sklearn.impute import KNNImputer\n",
    "from sklearn.preprocessing import RobustScaler\n",
    "import pandas as pd\n"
   ]
  },
  {
   "cell_type": "code",
   "execution_count": 2,
   "metadata": {},
   "outputs": [],
   "source": [
    "Target = 'Advance Estimate From BEA'\n",
    "Drop = ['GDP Nowcast', 'Quarter being forecasted', 'Advance Estimate From BEA', 'Publication Date of Advance Estimate',\n",
    "       'Days until advance estimate', 'Forecast Error', 'Data releases']"
   ]
  },
  {
   "cell_type": "code",
   "execution_count": null,
   "metadata": {},
   "outputs": [],
   "source": [
    "gdpnow = pd.read_csv('data/gdpnow_daily_df.csv', index_col='Unnamed: 0', parse_dates=True) #date_parser=dateparse)\n",
    "# Ensure that load_df index is in the same date format\n",
    "gdpnow.index = pd.to_datetime(gdpnow.index)"
   ]
  },
  {
   "cell_type": "code",
   "execution_count": 3,
   "metadata": {},
   "outputs": [],
   "source": [
    "X = gdpnow.drop(columns=Drop)\n",
    "y = gdpnow['Advance Estimate From BEA']\n",
    "y= y[-X.shape[0]:]"
   ]
  },
  {
   "cell_type": "code",
   "execution_count": 30,
   "metadata": {},
   "outputs": [
    {
     "data": {
      "text/plain": [
       "90"
      ]
     },
     "execution_count": 30,
     "metadata": {},
     "output_type": "execute_result"
    }
   ],
   "source": [
    "y = y.fillna(method='ffill')\n",
    "y = pd.Series(y)"
   ]
  },
  {
   "cell_type": "code",
   "execution_count": 4,
   "metadata": {},
   "outputs": [],
   "source": [
    "\n",
    "X_train, X_test, y_train, y_test = train_test_split(X, y, test_size = 0.2)\n",
    "\n",
    "# Replace NaN values with forward fill\n",
    "y = y.fillna(method='ffill')\n",
    "y = pd.Series(y)\n",
    "\n",
    "# Replace NaN values with the mean\n",
    "# # # Calculate the mean excluding NaN values\n",
    "mean_val_y_test = np.nanmean(y_test)\n",
    "y_test[np.isnan(y_test)] = mean_val_y_test\n",
    "y_test = pd.Series(y_test)\n"
   ]
  },
  {
   "cell_type": "code",
   "execution_count": 5,
   "metadata": {},
   "outputs": [],
   "source": [
    "from sklearn.impute import SimpleImputer\n",
    "from sklearn.preprocessing import StandardScaler\n",
    "\n",
    "\n",
    "# Build the preprocessing pipeline\n",
    "preproc = make_pipeline(\n",
    "    SimpleImputer(strategy='mean'),# Impute missing values via linear interpolation\n",
    "    StandardScaler()  # Standardize features by removing the mean and scaling to unit variance\n",
    ")\n",
    "\n",
    "X_train = preproc.fit_transform(X_train)\n",
    "X_test = preproc.transform(X_test)\n",
    "new_data = preproc.transform(new_data)"
   ]
  },
  {
   "cell_type": "code",
   "execution_count": 32,
   "metadata": {},
   "outputs": [
    {
     "name": "stderr",
     "output_type": "stream",
     "text": [
      "/Users/thomasbowden/.pyenv/versions/3.10.6/envs/lewagon/lib/python3.10/site-packages/sklearn/base.py:465: UserWarning: X does not have valid feature names, but SimpleImputer was fitted with feature names\n",
      "  warnings.warn(\n"
     ]
    },
    {
     "data": {
      "text/plain": [
       "90"
      ]
     },
     "execution_count": 32,
     "metadata": {},
     "output_type": "execute_result"
    }
   ],
   "source": [
    "new_data = preproc.transform(new_data)\n",
    "len(new_data)"
   ]
  },
  {
   "cell_type": "code",
   "execution_count": 6,
   "metadata": {},
   "outputs": [
    {
     "name": "stdout",
     "output_type": "stream",
     "text": [
      "Shape of X_train: (7002, 62, 674)\n",
      "Shape of y_train: (7002,)\n",
      "Shape of X_test: (1704, 62, 674)\n",
      "Shape of y_test: (1704,)\n"
     ]
    }
   ],
   "source": [
    "def create_sequences(X, y, n_steps):\n",
    "    Xs, ys = [], []\n",
    "    for i in range(len(X) - n_steps):\n",
    "        Xs.append(X[i:(i + n_steps)])\n",
    "        ys.append(y[i + n_steps])\n",
    "    return np.array(Xs), np.array(ys)\n",
    "\n",
    "# Number of time steps you want to look back\n",
    "n_steps = 62\n",
    "\n",
    "# Create sequences using the updated function\n",
    "X_train, y_train = create_sequences(X_train, y_train, n_steps)\n",
    "X_test, y_test = create_sequences(X_test, y_test, n_steps)\n",
    "\n",
    "print(f\"Shape of X_train: {X_train.shape}\")\n",
    "print(f\"Shape of y_train: {y_train.shape}\")\n",
    "\n",
    "print(f\"Shape of X_test: {X_test.shape}\")\n",
    "print(f\"Shape of y_test: {y_test.shape}\")\n"
   ]
  },
  {
   "cell_type": "code",
   "execution_count": 35,
   "metadata": {},
   "outputs": [],
   "source": [
    "import numpy as np\n",
    "\n",
    "def create_single_sequence_for_prediction(data, n_steps):\n",
    "    # Assuming data is already preprocessed and in the correct shape\n",
    "    if len(data) >= n_steps:\n",
    "        # Extract the last n_steps values for the prediction\n",
    "        X = np.array(data[-n_steps:]).reshape(1, n_steps, -1)  # Reshape for model input\n",
    "        return X\n",
    "    else:\n",
    "        print(\"Not enough data to create a sequence.\")\n",
    "        return None\n",
    "\n",
    "# Example usage with your single series 'new_data' and 'n_steps'\n",
    "n_steps = 62  # Number of time steps you want to look back\n",
    "# Assuming 'new_data' is a numpy array or a list with the recent observations\n",
    "X_for_prediction = create_single_sequence_for_prediction(new_data, n_steps)\n",
    "\n",
    "# Now 'X_for_prediction' is ready to be used with your model for making the prediction\n",
    "# Assuming you have a trained model named 'model'\n",
    "# prediction = model.predict(X_for_prediction)\n"
   ]
  },
  {
   "cell_type": "code",
   "execution_count": 36,
   "metadata": {},
   "outputs": [
    {
     "data": {
      "text/plain": [
       "(1, 62, 674)"
      ]
     },
     "execution_count": 36,
     "metadata": {},
     "output_type": "execute_result"
    }
   ],
   "source": [
    "X_for_prediction.shape"
   ]
  },
  {
   "cell_type": "code",
   "execution_count": 27,
   "metadata": {},
   "outputs": [],
   "source": [
    "def create_single_sequence(data, n_steps):\n",
    "    Xs, ys = [], []\n",
    "    for i in range(len(data) - n_steps):\n",
    "        Xs.append(data[i:(i + n_steps)])\n",
    "        ys.append(data[i + n_steps])\n",
    "    return np.array(Xs), np.array(ys)\n",
    "\n",
    "# Example usage with your single series 'new_data' and 'n_steps'\n",
    "n_steps = 62  # Number of time steps you want to look back\n",
    "new_data = create_single_sequence(new_data, n_steps)\n"
   ]
  },
  {
   "cell_type": "code",
   "execution_count": 8,
   "metadata": {},
   "outputs": [
    {
     "name": "stdout",
     "output_type": "stream",
     "text": [
      "NaN in X_train: 0\n",
      "NaN in y_train: 0\n",
      "NaN in X_test: 0\n",
      "NaN in y_test: 0\n"
     ]
    }
   ],
   "source": [
    "# Count and print the number of NaNs in each dataset\n",
    "print(f\"NaN in X_train: {np.isnan(X_train).sum()}\")\n",
    "print(f\"NaN in y_train: {np.isnan(y_train).sum()}\")\n",
    "print(f\"NaN in X_test: {np.isnan(X_test).sum()}\")\n",
    "print(f\"NaN in y_test: {np.isnan(y_test).sum()}\")"
   ]
  },
  {
   "cell_type": "code",
   "execution_count": 9,
   "metadata": {},
   "outputs": [],
   "source": [
    "# ## model architechture ##\n",
    "from tensorflow.keras import models, layers\n",
    "\n",
    "# The Normalization Layer\n",
    "# normalizer = Normalization()  # Instantiate a \"normalizer\" layer\n",
    "# normalizer.adapt(X_train) # \"Fit\" it on the train set\n",
    "# Assuming X_train is your preprocessed training data ready for the RNN\n",
    "\n",
    "timesteps = X_train.shape[1]  # Number of timesteps in each sequence\n",
    "features = X_train.shape[2]  # Number of features per timestep\n",
    "\n",
    "\n",
    "def initialize_model(input_shape):\n",
    "    model = models.Sequential([\n",
    "        layers.LSTM(5, input_shape=input_shape, activation='tanh'),\n",
    "        layers.Dense(10, activation=\"relu\"),\n",
    "        layers.Dropout(rate=0.2),\n",
    "        layers.Dense(1, activation='linear')  # Assuming a regression task\n",
    "    ])\n",
    "\n",
    "\n",
    "    return model\n",
    "\n",
    "# You can now proceed to train model_LSTM with your data\n"
   ]
  },
  {
   "cell_type": "code",
   "execution_count": 10,
   "metadata": {},
   "outputs": [
    {
     "name": "stdout",
     "output_type": "stream",
     "text": [
      "Epoch 1/1000\n"
     ]
    },
    {
     "name": "stderr",
     "output_type": "stream",
     "text": [
      "2024-03-12 15:03:14.121378: W tensorflow/core/platform/profile_utils/cpu_utils.cc:128] Failed to get CPU frequency: 0 Hz\n"
     ]
    },
    {
     "name": "stdout",
     "output_type": "stream",
     "text": [
      "701/701 [==============================] - 14s 14ms/step - loss: 41858.2305 - mae: 199.3758 - val_loss: 38793.4961 - val_mae: 191.7514\n",
      "Epoch 2/1000\n",
      "701/701 [==============================] - 5s 7ms/step - loss: 34207.3945 - mae: 178.7613 - val_loss: 28042.5898 - val_mae: 161.0134\n",
      "Epoch 3/1000\n",
      "701/701 [==============================] - 5s 8ms/step - loss: 21615.3008 - mae: 137.1264 - val_loss: 14278.6240 - val_mae: 108.8070\n",
      "Epoch 4/1000\n",
      "701/701 [==============================] - 8s 11ms/step - loss: 10221.1465 - mae: 83.0944 - val_loss: 4989.2163 - val_mae: 52.9868\n",
      "Epoch 5/1000\n",
      "701/701 [==============================] - 5s 7ms/step - loss: 6113.8970 - mae: 60.4312 - val_loss: 3804.5056 - val_mae: 46.6807\n",
      "Epoch 6/1000\n",
      "701/701 [==============================] - 5s 8ms/step - loss: 6001.3584 - mae: 60.5713 - val_loss: 3710.9102 - val_mae: 46.3187\n",
      "Epoch 7/1000\n",
      "701/701 [==============================] - 5s 7ms/step - loss: 5834.8882 - mae: 59.8426 - val_loss: 3628.2173 - val_mae: 45.9946\n",
      "Epoch 8/1000\n",
      "701/701 [==============================] - 6s 9ms/step - loss: 5689.1621 - mae: 59.0344 - val_loss: 3556.9451 - val_mae: 45.7730\n",
      "Epoch 9/1000\n",
      "701/701 [==============================] - 6s 8ms/step - loss: 5753.7471 - mae: 59.7544 - val_loss: 3520.3154 - val_mae: 45.6884\n",
      "Epoch 10/1000\n",
      "701/701 [==============================] - 6s 8ms/step - loss: 5666.8613 - mae: 59.3083 - val_loss: 3455.1938 - val_mae: 45.4145\n",
      "Epoch 11/1000\n",
      "701/701 [==============================] - 6s 8ms/step - loss: 5326.8208 - mae: 57.7968 - val_loss: 3289.1323 - val_mae: 44.9709\n",
      "Epoch 12/1000\n",
      "701/701 [==============================] - 5s 8ms/step - loss: 5308.1128 - mae: 57.2688 - val_loss: 3203.5959 - val_mae: 44.5492\n",
      "Epoch 13/1000\n",
      "701/701 [==============================] - 5s 7ms/step - loss: 5305.9141 - mae: 57.7403 - val_loss: 3204.6960 - val_mae: 44.6508\n",
      "Epoch 14/1000\n",
      "701/701 [==============================] - 6s 8ms/step - loss: 5383.8892 - mae: 57.9635 - val_loss: 3177.6965 - val_mae: 44.4958\n",
      "Epoch 15/1000\n",
      "701/701 [==============================] - 5s 7ms/step - loss: 5321.5542 - mae: 57.8264 - val_loss: 3113.2908 - val_mae: 44.2086\n",
      "Epoch 16/1000\n",
      "701/701 [==============================] - 5s 8ms/step - loss: 5084.2471 - mae: 56.5314 - val_loss: 3087.3462 - val_mae: 44.1654\n",
      "Epoch 17/1000\n",
      "701/701 [==============================] - 4s 6ms/step - loss: 5203.8989 - mae: 57.2460 - val_loss: 2965.3872 - val_mae: 43.5884\n",
      "Epoch 18/1000\n",
      "701/701 [==============================] - 5s 7ms/step - loss: 5009.9961 - mae: 56.3963 - val_loss: 2920.6816 - val_mae: 43.3652\n",
      "Epoch 19/1000\n",
      "701/701 [==============================] - 5s 7ms/step - loss: 5030.5537 - mae: 56.0135 - val_loss: 2891.0037 - val_mae: 43.2003\n",
      "Epoch 20/1000\n",
      "701/701 [==============================] - 4s 6ms/step - loss: 5137.1636 - mae: 56.9001 - val_loss: 2838.2112 - val_mae: 42.9403\n",
      "Epoch 21/1000\n",
      "701/701 [==============================] - 5s 7ms/step - loss: 4954.7168 - mae: 56.0232 - val_loss: 2787.8906 - val_mae: 42.6654\n",
      "Epoch 22/1000\n",
      "701/701 [==============================] - 5s 7ms/step - loss: 4918.0063 - mae: 55.8923 - val_loss: 2782.9609 - val_mae: 42.6422\n",
      "Epoch 23/1000\n",
      "701/701 [==============================] - 5s 7ms/step - loss: 4959.6494 - mae: 56.0262 - val_loss: 2763.6440 - val_mae: 42.6052\n",
      "Epoch 24/1000\n",
      "701/701 [==============================] - 4s 6ms/step - loss: 5052.9106 - mae: 56.3586 - val_loss: 2766.4280 - val_mae: 42.6017\n",
      "Epoch 25/1000\n",
      "701/701 [==============================] - 5s 7ms/step - loss: 4942.3965 - mae: 56.1414 - val_loss: 2750.7273 - val_mae: 42.5096\n",
      "Epoch 26/1000\n",
      "701/701 [==============================] - 4s 6ms/step - loss: 4893.9087 - mae: 55.9388 - val_loss: 2738.9641 - val_mae: 42.4710\n",
      "Epoch 27/1000\n",
      "701/701 [==============================] - 7s 9ms/step - loss: 4822.1538 - mae: 54.9262 - val_loss: 2754.6926 - val_mae: 42.6069\n",
      "Epoch 28/1000\n",
      "701/701 [==============================] - 5s 8ms/step - loss: 4920.2534 - mae: 55.6929 - val_loss: 2772.6836 - val_mae: 42.8199\n",
      "Epoch 29/1000\n",
      "701/701 [==============================] - 5s 7ms/step - loss: 4895.5723 - mae: 55.5704 - val_loss: 2778.1799 - val_mae: 42.8210\n",
      "Epoch 30/1000\n",
      "701/701 [==============================] - 5s 7ms/step - loss: 5037.1162 - mae: 56.4360 - val_loss: 2770.8140 - val_mae: 42.7841\n",
      "Epoch 31/1000\n",
      "701/701 [==============================] - 4s 6ms/step - loss: 4972.3110 - mae: 56.1244 - val_loss: 2754.6382 - val_mae: 42.7083\n",
      "Epoch 32/1000\n",
      "701/701 [==============================] - 5s 7ms/step - loss: 4805.3701 - mae: 55.1304 - val_loss: 2757.2673 - val_mae: 42.7459\n",
      "Epoch 33/1000\n",
      "701/701 [==============================] - 4s 6ms/step - loss: 4815.2764 - mae: 55.0787 - val_loss: 2776.9482 - val_mae: 42.8295\n",
      "Epoch 34/1000\n",
      "701/701 [==============================] - 5s 7ms/step - loss: 4852.9058 - mae: 55.6555 - val_loss: 2762.2251 - val_mae: 42.7795\n",
      "Epoch 35/1000\n",
      "701/701 [==============================] - 5s 7ms/step - loss: 4761.0903 - mae: 54.9589 - val_loss: 2756.1277 - val_mae: 42.7711\n",
      "Epoch 36/1000\n",
      "701/701 [==============================] - 5s 7ms/step - loss: 4830.6772 - mae: 55.2603 - val_loss: 2766.4141 - val_mae: 42.8598\n",
      "Epoch 37/1000\n",
      "701/701 [==============================] - 4s 6ms/step - loss: 4663.6543 - mae: 54.0484 - val_loss: 2775.9656 - val_mae: 42.9002\n",
      "Epoch 38/1000\n",
      "701/701 [==============================] - 5s 7ms/step - loss: 4778.9775 - mae: 54.8704 - val_loss: 2756.3613 - val_mae: 42.7711\n",
      "Epoch 39/1000\n",
      "701/701 [==============================] - 5s 7ms/step - loss: 4816.0630 - mae: 55.2155 - val_loss: 2755.1960 - val_mae: 42.7570\n",
      "Epoch 40/1000\n",
      "701/701 [==============================] - 4s 6ms/step - loss: 4775.7554 - mae: 54.8672 - val_loss: 2847.9172 - val_mae: 43.3644\n",
      "Epoch 41/1000\n",
      "701/701 [==============================] - 5s 7ms/step - loss: 4635.5103 - mae: 53.8047 - val_loss: 2816.0999 - val_mae: 43.1466\n",
      "Epoch 42/1000\n",
      "701/701 [==============================] - 5s 7ms/step - loss: 4794.4443 - mae: 55.1952 - val_loss: 2771.2014 - val_mae: 42.8430\n",
      "Epoch 43/1000\n",
      "701/701 [==============================] - 6s 8ms/step - loss: 4894.8691 - mae: 55.2885 - val_loss: 2752.9365 - val_mae: 42.7104\n",
      "Epoch 44/1000\n",
      "701/701 [==============================] - 7s 9ms/step - loss: 4818.5371 - mae: 55.3762 - val_loss: 2755.4968 - val_mae: 42.7453\n",
      "Epoch 45/1000\n",
      "701/701 [==============================] - 5s 7ms/step - loss: 4621.3613 - mae: 53.5911 - val_loss: 2753.7585 - val_mae: 42.7550\n",
      "Epoch 46/1000\n",
      "701/701 [==============================] - 5s 7ms/step - loss: 4751.8374 - mae: 54.9407 - val_loss: 2744.0728 - val_mae: 42.7232\n"
     ]
    }
   ],
   "source": [
    "import tensorflow as tf\n",
    "from tensorflow.keras.optimizers.schedules import ExponentialDecay\n",
    "\n",
    "input_shape=(timesteps, features)\n",
    "initial_learning_rate = 0.001  # Start with default Adam value\n",
    "\n",
    "# # Define the learning rate schedule\n",
    "lr_schedule = ExponentialDecay(\n",
    "    initial_learning_rate=initial_learning_rate,\n",
    "    decay_steps=5000,  # Learning rate will decay every 5000 steps\n",
    "    decay_rate=0.7,  # Learning rate will be multiplied by 0.7 at each decay step\n",
    "    staircase=True  # If True, learning rate changes at discrete intervals, making the decay stepwise\n",
    ")\n",
    "\n",
    "# Initialize the RMSprop optimizer with the ExponentialDecay learning rate schedule\n",
    "optimizer = tf.keras.optimizers.RMSprop(learning_rate=lr_schedule)\n",
    "\n",
    "# Initialize the optimizer with the learning rate schedule\n",
    "# optimizer = tf.keras.optimizers.Adam(learning_rate=lr_schedule)\n",
    "\n",
    "# 2. Initializing the model\n",
    "model = initialize_model(input_shape)\n",
    "\n",
    "model.compile(optimizer=optimizer,\n",
    "                loss='mse',\n",
    "                metrics=['mae'])\n",
    "\n",
    "# 4. Training the neural net\n",
    "es = EarlyStopping(patience=20, restore_best_weights=True)\n",
    "history = model.fit(\n",
    "    X_train,\n",
    "    y_train,\n",
    "    epochs=1000,\n",
    "    validation_split = 0.2,\n",
    "    shuffle = True,\n",
    "    batch_size=8,\n",
    "    callbacks = [es],\n",
    "    verbose = 1\n",
    ")\n"
   ]
  },
  {
   "cell_type": "code",
   "execution_count": 11,
   "metadata": {},
   "outputs": [
    {
     "name": "stdout",
     "output_type": "stream",
     "text": [
      "54/54 [==============================] - 0s 4ms/step - loss: 3120.7156 - mae: 44.5583\n"
     ]
    }
   ],
   "source": [
    "result = model.evaluate(X_test, y_test)"
   ]
  },
  {
   "cell_type": "code",
   "execution_count": 38,
   "metadata": {},
   "outputs": [
    {
     "name": "stdout",
     "output_type": "stream",
     "text": [
      "54/54 [==============================] - 1s 7ms/step\n"
     ]
    },
    {
     "data": {
      "text/plain": [
       "array([[195.48323],\n",
       "       [195.48291],\n",
       "       [195.4766 ],\n",
       "       ...,\n",
       "       [195.48318],\n",
       "       [195.48297],\n",
       "       [195.45094]], dtype=float32)"
      ]
     },
     "execution_count": 38,
     "metadata": {},
     "output_type": "execute_result"
    }
   ],
   "source": [
    "predictions = model.predict(X_test)\n",
    "predictions"
   ]
  },
  {
   "cell_type": "code",
   "execution_count": 24,
   "metadata": {},
   "outputs": [
    {
     "name": "stdout",
     "output_type": "stream",
     "text": [
      "54/54 [==============================] - 0s 6ms/step - loss: 3120.7156 - mae: 44.5583\n"
     ]
    }
   ],
   "source": [
    "loss, mae = model.evaluate(X_test, y_test)\n"
   ]
  },
  {
   "cell_type": "code",
   "execution_count": null,
   "metadata": {},
   "outputs": [],
   "source": []
  },
  {
   "cell_type": "code",
   "execution_count": null,
   "metadata": {},
   "outputs": [],
   "source": [
    "def plot_loss_mae(history):\n",
    "    # Setting figures\n",
    "    fig, (ax1, ax2) = plt.subplots(1,2, figsize=(13,4))\n",
    "\n",
    "    # Create the plots\n",
    "    ax1.plot(history.history['loss'])\n",
    "    ax1.plot(history.history['val_loss'])\n",
    "\n",
    "    ax2.plot(history.history['mae'])\n",
    "    ax2.plot(history.history['val_mae'])\n",
    "\n",
    "    # Set titles and labels\n",
    "    ax1.set_title('Model loss')\n",
    "    ax1.set_ylabel('Loss')\n",
    "    ax1.set_xlabel('Epoch')\n",
    "\n",
    "    ax2.set_title('MAE')\n",
    "    ax2.set_ylabel('MAE')\n",
    "    ax2.set_xlabel('Epoch')\n",
    "\n",
    "    # Set limits for y-axes\n",
    "    ax1.set_ylim(ymin=0, ymax=200)\n",
    "    ax2.set_ylim(ymin=0, ymax=20)\n",
    "\n",
    "    # Generate legends\n",
    "    ax1.legend(['Train', 'Validation'], loc='best')\n",
    "    ax2.legend(['Train', 'Validation'], loc='best')\n",
    "\n",
    "    # Show grids\n",
    "    ax1.grid(axis=\"x\",linewidth=0.5)\n",
    "    ax1.grid(axis=\"y\",linewidth=0.5)\n",
    "\n",
    "    ax2.grid(axis=\"x\",linewidth=0.5)\n",
    "    ax2.grid(axis=\"y\",linewidth=0.5)\n",
    "\n",
    "    plt.show()"
   ]
  },
  {
   "cell_type": "code",
   "execution_count": null,
   "metadata": {},
   "outputs": [],
   "source": []
  },
  {
   "cell_type": "code",
   "execution_count": null,
   "metadata": {},
   "outputs": [],
   "source": []
  },
  {
   "cell_type": "code",
   "execution_count": null,
   "metadata": {},
   "outputs": [],
   "source": []
  }
 ],
 "metadata": {
  "kernelspec": {
   "display_name": "lewagon",
   "language": "python",
   "name": "python3"
  },
  "language_info": {
   "codemirror_mode": {
    "name": "ipython",
    "version": 3
   },
   "file_extension": ".py",
   "mimetype": "text/x-python",
   "name": "python",
   "nbconvert_exporter": "python",
   "pygments_lexer": "ipython3",
   "version": "3.10.6"
  }
 },
 "nbformat": 4,
 "nbformat_minor": 2
}
