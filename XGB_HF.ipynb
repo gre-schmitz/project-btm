{
 "cells": [
  {
   "cell_type": "code",
   "execution_count": 7,
   "metadata": {},
   "outputs": [],
   "source": [
    "import pandas as pd\n",
    "import numpy as np\n",
    "import matplotlib.pyplot as plt\n",
    "\n",
    "from sklearn.model_selection import train_test_split\n",
    "from sklearn.pipeline import Pipeline\n",
    "from sklearn.preprocessing import RobustScaler\n",
    "from sklearn.feature_selection import SelectPercentile, mutual_info_regression\n",
    "from xgboost import XGBRegressor\n",
    "from sklearn.impute import KNNImputer\n",
    "from sklearn.model_selection import RandomizedSearchCV\n",
    "from scipy import stats\n",
    "from statsmodels.tsa.stattools import acf\n",
    "from sklearn.model_selection import learning_curve\n"
   ]
  },
  {
   "cell_type": "markdown",
   "metadata": {},
   "source": [
    "# Import data"
   ]
  },
  {
   "cell_type": "code",
   "execution_count": 8,
   "metadata": {},
   "outputs": [],
   "source": [
    "gdpnow = pd.read_csv('gdpnow_hf.csv', index_col='Dates', parse_dates=True) #date_parser=dateparse)\n",
    "# Ensure that load_df index is in the same date format\n",
    "gdpnow.index = pd.to_datetime(gdpnow.index)"
   ]
  },
  {
   "cell_type": "code",
   "execution_count": 9,
   "metadata": {},
   "outputs": [
    {
     "data": {
      "text/html": [
       "<div>\n",
       "<style scoped>\n",
       "    .dataframe tbody tr th:only-of-type {\n",
       "        vertical-align: middle;\n",
       "    }\n",
       "\n",
       "    .dataframe tbody tr th {\n",
       "        vertical-align: top;\n",
       "    }\n",
       "\n",
       "    .dataframe thead th {\n",
       "        text-align: right;\n",
       "    }\n",
       "</style>\n",
       "<table border=\"1\" class=\"dataframe\">\n",
       "  <thead>\n",
       "    <tr style=\"text-align: right;\">\n",
       "      <th></th>\n",
       "      <th>GSUSFCI Index</th>\n",
       "      <th>CESIUSD Index</th>\n",
       "      <th>value_MORTGAGE30US</th>\n",
       "      <th>value_CCLACBW027SBOG</th>\n",
       "      <th>value_WTISPLC</th>\n",
       "      <th>value_EXPINF1YR</th>\n",
       "      <th>value_STLPPM</th>\n",
       "      <th>value_ECIWAG</th>\n",
       "      <th>value_M2REAL</th>\n",
       "      <th>value_UNRATE</th>\n",
       "      <th>...</th>\n",
       "      <th>PCE Goods</th>\n",
       "      <th>PCE Services</th>\n",
       "      <th>Previous change in private inventories ($Bil 2009)</th>\n",
       "      <th>Publication Date of Advance Estimate</th>\n",
       "      <th>Quarter being forecasted</th>\n",
       "      <th>Residential</th>\n",
       "      <th>S&amp;L</th>\n",
       "      <th>Services exports</th>\n",
       "      <th>Services imports</th>\n",
       "      <th>Structures</th>\n",
       "    </tr>\n",
       "    <tr>\n",
       "      <th>Dates</th>\n",
       "      <th></th>\n",
       "      <th></th>\n",
       "      <th></th>\n",
       "      <th></th>\n",
       "      <th></th>\n",
       "      <th></th>\n",
       "      <th></th>\n",
       "      <th></th>\n",
       "      <th></th>\n",
       "      <th></th>\n",
       "      <th></th>\n",
       "      <th></th>\n",
       "      <th></th>\n",
       "      <th></th>\n",
       "      <th></th>\n",
       "      <th></th>\n",
       "      <th></th>\n",
       "      <th></th>\n",
       "      <th></th>\n",
       "      <th></th>\n",
       "      <th></th>\n",
       "    </tr>\n",
       "  </thead>\n",
       "  <tbody>\n",
       "    <tr>\n",
       "      <th>2014-05-01</th>\n",
       "      <td>99.01</td>\n",
       "      <td>-28.7</td>\n",
       "      <td>4.29</td>\n",
       "      <td>608.7653</td>\n",
       "      <td>102.18</td>\n",
       "      <td>1.768390</td>\n",
       "      <td>0.227347</td>\n",
       "      <td>121.1</td>\n",
       "      <td>4778.4</td>\n",
       "      <td>6.3</td>\n",
       "      <td>...</td>\n",
       "      <td>5.8</td>\n",
       "      <td>3.9</td>\n",
       "      <td>70.0</td>\n",
       "      <td>30/07/2014</td>\n",
       "      <td>30/06/2014</td>\n",
       "      <td>4.6</td>\n",
       "      <td>1.4</td>\n",
       "      <td>2.5</td>\n",
       "      <td>4.0</td>\n",
       "      <td>1.8</td>\n",
       "    </tr>\n",
       "    <tr>\n",
       "      <th>2014-05-02</th>\n",
       "      <td>99.00</td>\n",
       "      <td>-18.9</td>\n",
       "      <td>4.29</td>\n",
       "      <td>608.7653</td>\n",
       "      <td>102.18</td>\n",
       "      <td>1.768390</td>\n",
       "      <td>0.227347</td>\n",
       "      <td>121.1</td>\n",
       "      <td>4778.4</td>\n",
       "      <td>6.3</td>\n",
       "      <td>...</td>\n",
       "      <td>5.8</td>\n",
       "      <td>3.9</td>\n",
       "      <td>58.0</td>\n",
       "      <td>30/07/2014</td>\n",
       "      <td>30/06/2014</td>\n",
       "      <td>4.6</td>\n",
       "      <td>1.3</td>\n",
       "      <td>2.5</td>\n",
       "      <td>4.0</td>\n",
       "      <td>1.8</td>\n",
       "    </tr>\n",
       "    <tr>\n",
       "      <th>2014-05-05</th>\n",
       "      <td>99.01</td>\n",
       "      <td>-12.6</td>\n",
       "      <td>4.29</td>\n",
       "      <td>608.7653</td>\n",
       "      <td>102.18</td>\n",
       "      <td>1.768390</td>\n",
       "      <td>0.227347</td>\n",
       "      <td>121.1</td>\n",
       "      <td>4778.4</td>\n",
       "      <td>6.3</td>\n",
       "      <td>...</td>\n",
       "      <td>NaN</td>\n",
       "      <td>NaN</td>\n",
       "      <td>NaN</td>\n",
       "      <td>NaN</td>\n",
       "      <td>NaN</td>\n",
       "      <td>NaN</td>\n",
       "      <td>NaN</td>\n",
       "      <td>NaN</td>\n",
       "      <td>NaN</td>\n",
       "      <td>NaN</td>\n",
       "    </tr>\n",
       "    <tr>\n",
       "      <th>2014-05-06</th>\n",
       "      <td>99.02</td>\n",
       "      <td>-12.0</td>\n",
       "      <td>4.29</td>\n",
       "      <td>608.7653</td>\n",
       "      <td>102.18</td>\n",
       "      <td>1.768390</td>\n",
       "      <td>0.227347</td>\n",
       "      <td>121.1</td>\n",
       "      <td>4778.4</td>\n",
       "      <td>6.3</td>\n",
       "      <td>...</td>\n",
       "      <td>5.4</td>\n",
       "      <td>3.9</td>\n",
       "      <td>58.0</td>\n",
       "      <td>30/07/2014</td>\n",
       "      <td>30/06/2014</td>\n",
       "      <td>4.5</td>\n",
       "      <td>1.3</td>\n",
       "      <td>2.7</td>\n",
       "      <td>3.3</td>\n",
       "      <td>1.8</td>\n",
       "    </tr>\n",
       "    <tr>\n",
       "      <th>2014-05-07</th>\n",
       "      <td>99.00</td>\n",
       "      <td>-11.2</td>\n",
       "      <td>4.29</td>\n",
       "      <td>608.7653</td>\n",
       "      <td>102.18</td>\n",
       "      <td>1.768390</td>\n",
       "      <td>0.227347</td>\n",
       "      <td>121.1</td>\n",
       "      <td>4778.4</td>\n",
       "      <td>6.3</td>\n",
       "      <td>...</td>\n",
       "      <td>NaN</td>\n",
       "      <td>NaN</td>\n",
       "      <td>NaN</td>\n",
       "      <td>NaN</td>\n",
       "      <td>NaN</td>\n",
       "      <td>NaN</td>\n",
       "      <td>NaN</td>\n",
       "      <td>NaN</td>\n",
       "      <td>NaN</td>\n",
       "      <td>NaN</td>\n",
       "    </tr>\n",
       "    <tr>\n",
       "      <th>...</th>\n",
       "      <td>...</td>\n",
       "      <td>...</td>\n",
       "      <td>...</td>\n",
       "      <td>...</td>\n",
       "      <td>...</td>\n",
       "      <td>...</td>\n",
       "      <td>...</td>\n",
       "      <td>...</td>\n",
       "      <td>...</td>\n",
       "      <td>...</td>\n",
       "      <td>...</td>\n",
       "      <td>...</td>\n",
       "      <td>...</td>\n",
       "      <td>...</td>\n",
       "      <td>...</td>\n",
       "      <td>...</td>\n",
       "      <td>...</td>\n",
       "      <td>...</td>\n",
       "      <td>...</td>\n",
       "      <td>...</td>\n",
       "      <td>...</td>\n",
       "    </tr>\n",
       "    <tr>\n",
       "      <th>2024-01-15</th>\n",
       "      <td>99.34</td>\n",
       "      <td>5.4</td>\n",
       "      <td>6.66</td>\n",
       "      <td>1033.2235</td>\n",
       "      <td>74.15</td>\n",
       "      <td>2.418633</td>\n",
       "      <td>0.940888</td>\n",
       "      <td>155.8</td>\n",
       "      <td>6710.6</td>\n",
       "      <td>3.7</td>\n",
       "      <td>...</td>\n",
       "      <td>NaN</td>\n",
       "      <td>NaN</td>\n",
       "      <td>NaN</td>\n",
       "      <td>NaN</td>\n",
       "      <td>NaN</td>\n",
       "      <td>NaN</td>\n",
       "      <td>NaN</td>\n",
       "      <td>NaN</td>\n",
       "      <td>NaN</td>\n",
       "      <td>NaN</td>\n",
       "    </tr>\n",
       "    <tr>\n",
       "      <th>2024-01-16</th>\n",
       "      <td>99.47</td>\n",
       "      <td>-2.4</td>\n",
       "      <td>6.66</td>\n",
       "      <td>1033.2235</td>\n",
       "      <td>74.15</td>\n",
       "      <td>2.418633</td>\n",
       "      <td>0.940888</td>\n",
       "      <td>155.8</td>\n",
       "      <td>6710.6</td>\n",
       "      <td>3.7</td>\n",
       "      <td>...</td>\n",
       "      <td>NaN</td>\n",
       "      <td>NaN</td>\n",
       "      <td>NaN</td>\n",
       "      <td>NaN</td>\n",
       "      <td>NaN</td>\n",
       "      <td>NaN</td>\n",
       "      <td>NaN</td>\n",
       "      <td>NaN</td>\n",
       "      <td>NaN</td>\n",
       "      <td>NaN</td>\n",
       "    </tr>\n",
       "    <tr>\n",
       "      <th>2024-01-17</th>\n",
       "      <td>99.51</td>\n",
       "      <td>1.4</td>\n",
       "      <td>6.66</td>\n",
       "      <td>1035.5004</td>\n",
       "      <td>74.15</td>\n",
       "      <td>2.418633</td>\n",
       "      <td>0.940888</td>\n",
       "      <td>155.8</td>\n",
       "      <td>6710.6</td>\n",
       "      <td>3.7</td>\n",
       "      <td>...</td>\n",
       "      <td>3.6</td>\n",
       "      <td>2.4</td>\n",
       "      <td>77.8</td>\n",
       "      <td>25/01/2024</td>\n",
       "      <td>31/12/2023</td>\n",
       "      <td>0.2</td>\n",
       "      <td>3.6</td>\n",
       "      <td>5.6</td>\n",
       "      <td>5.7</td>\n",
       "      <td>2.0</td>\n",
       "    </tr>\n",
       "    <tr>\n",
       "      <th>2024-01-18</th>\n",
       "      <td>99.48</td>\n",
       "      <td>4.9</td>\n",
       "      <td>6.60</td>\n",
       "      <td>1035.5004</td>\n",
       "      <td>74.15</td>\n",
       "      <td>2.418633</td>\n",
       "      <td>0.940888</td>\n",
       "      <td>155.8</td>\n",
       "      <td>6710.6</td>\n",
       "      <td>3.7</td>\n",
       "      <td>...</td>\n",
       "      <td>3.6</td>\n",
       "      <td>2.4</td>\n",
       "      <td>77.8</td>\n",
       "      <td>25/01/2024</td>\n",
       "      <td>31/12/2023</td>\n",
       "      <td>-0.4</td>\n",
       "      <td>3.6</td>\n",
       "      <td>5.6</td>\n",
       "      <td>5.7</td>\n",
       "      <td>2.0</td>\n",
       "    </tr>\n",
       "    <tr>\n",
       "      <th>2024-01-19</th>\n",
       "      <td>99.40</td>\n",
       "      <td>13.5</td>\n",
       "      <td>6.60</td>\n",
       "      <td>1035.5004</td>\n",
       "      <td>74.15</td>\n",
       "      <td>2.418633</td>\n",
       "      <td>0.940888</td>\n",
       "      <td>155.8</td>\n",
       "      <td>6710.6</td>\n",
       "      <td>3.7</td>\n",
       "      <td>...</td>\n",
       "      <td>3.6</td>\n",
       "      <td>2.4</td>\n",
       "      <td>77.8</td>\n",
       "      <td>25/01/2024</td>\n",
       "      <td>31/12/2023</td>\n",
       "      <td>-0.6</td>\n",
       "      <td>3.6</td>\n",
       "      <td>5.6</td>\n",
       "      <td>5.7</td>\n",
       "      <td>2.0</td>\n",
       "    </tr>\n",
       "  </tbody>\n",
       "</table>\n",
       "<p>2537 rows × 63 columns</p>\n",
       "</div>"
      ],
      "text/plain": [
       "            GSUSFCI Index  CESIUSD Index  value_MORTGAGE30US  \\\n",
       "Dates                                                          \n",
       "2014-05-01          99.01          -28.7                4.29   \n",
       "2014-05-02          99.00          -18.9                4.29   \n",
       "2014-05-05          99.01          -12.6                4.29   \n",
       "2014-05-06          99.02          -12.0                4.29   \n",
       "2014-05-07          99.00          -11.2                4.29   \n",
       "...                   ...            ...                 ...   \n",
       "2024-01-15          99.34            5.4                6.66   \n",
       "2024-01-16          99.47           -2.4                6.66   \n",
       "2024-01-17          99.51            1.4                6.66   \n",
       "2024-01-18          99.48            4.9                6.60   \n",
       "2024-01-19          99.40           13.5                6.60   \n",
       "\n",
       "            value_CCLACBW027SBOG  value_WTISPLC  value_EXPINF1YR  \\\n",
       "Dates                                                              \n",
       "2014-05-01              608.7653         102.18         1.768390   \n",
       "2014-05-02              608.7653         102.18         1.768390   \n",
       "2014-05-05              608.7653         102.18         1.768390   \n",
       "2014-05-06              608.7653         102.18         1.768390   \n",
       "2014-05-07              608.7653         102.18         1.768390   \n",
       "...                          ...            ...              ...   \n",
       "2024-01-15             1033.2235          74.15         2.418633   \n",
       "2024-01-16             1033.2235          74.15         2.418633   \n",
       "2024-01-17             1035.5004          74.15         2.418633   \n",
       "2024-01-18             1035.5004          74.15         2.418633   \n",
       "2024-01-19             1035.5004          74.15         2.418633   \n",
       "\n",
       "            value_STLPPM  value_ECIWAG  value_M2REAL  value_UNRATE  ...  \\\n",
       "Dates                                                               ...   \n",
       "2014-05-01      0.227347         121.1        4778.4           6.3  ...   \n",
       "2014-05-02      0.227347         121.1        4778.4           6.3  ...   \n",
       "2014-05-05      0.227347         121.1        4778.4           6.3  ...   \n",
       "2014-05-06      0.227347         121.1        4778.4           6.3  ...   \n",
       "2014-05-07      0.227347         121.1        4778.4           6.3  ...   \n",
       "...                  ...           ...           ...           ...  ...   \n",
       "2024-01-15      0.940888         155.8        6710.6           3.7  ...   \n",
       "2024-01-16      0.940888         155.8        6710.6           3.7  ...   \n",
       "2024-01-17      0.940888         155.8        6710.6           3.7  ...   \n",
       "2024-01-18      0.940888         155.8        6710.6           3.7  ...   \n",
       "2024-01-19      0.940888         155.8        6710.6           3.7  ...   \n",
       "\n",
       "            PCE Goods  PCE Services  \\\n",
       "Dates                                 \n",
       "2014-05-01        5.8           3.9   \n",
       "2014-05-02        5.8           3.9   \n",
       "2014-05-05        NaN           NaN   \n",
       "2014-05-06        5.4           3.9   \n",
       "2014-05-07        NaN           NaN   \n",
       "...               ...           ...   \n",
       "2024-01-15        NaN           NaN   \n",
       "2024-01-16        NaN           NaN   \n",
       "2024-01-17        3.6           2.4   \n",
       "2024-01-18        3.6           2.4   \n",
       "2024-01-19        3.6           2.4   \n",
       "\n",
       "            Previous change in private inventories ($Bil 2009)  \\\n",
       "Dates                                                            \n",
       "2014-05-01                                               70.0    \n",
       "2014-05-02                                               58.0    \n",
       "2014-05-05                                                NaN    \n",
       "2014-05-06                                               58.0    \n",
       "2014-05-07                                                NaN    \n",
       "...                                                       ...    \n",
       "2024-01-15                                                NaN    \n",
       "2024-01-16                                                NaN    \n",
       "2024-01-17                                               77.8    \n",
       "2024-01-18                                               77.8    \n",
       "2024-01-19                                               77.8    \n",
       "\n",
       "            Publication Date of Advance Estimate  Quarter being forecasted  \\\n",
       "Dates                                                                        \n",
       "2014-05-01                            30/07/2014                30/06/2014   \n",
       "2014-05-02                            30/07/2014                30/06/2014   \n",
       "2014-05-05                                   NaN                       NaN   \n",
       "2014-05-06                            30/07/2014                30/06/2014   \n",
       "2014-05-07                                   NaN                       NaN   \n",
       "...                                          ...                       ...   \n",
       "2024-01-15                                   NaN                       NaN   \n",
       "2024-01-16                                   NaN                       NaN   \n",
       "2024-01-17                            25/01/2024                31/12/2023   \n",
       "2024-01-18                            25/01/2024                31/12/2023   \n",
       "2024-01-19                            25/01/2024                31/12/2023   \n",
       "\n",
       "            Residential  S&L  Services exports  Services imports  Structures  \n",
       "Dates                                                                         \n",
       "2014-05-01          4.6  1.4               2.5               4.0         1.8  \n",
       "2014-05-02          4.6  1.3               2.5               4.0         1.8  \n",
       "2014-05-05          NaN  NaN               NaN               NaN         NaN  \n",
       "2014-05-06          4.5  1.3               2.7               3.3         1.8  \n",
       "2014-05-07          NaN  NaN               NaN               NaN         NaN  \n",
       "...                 ...  ...               ...               ...         ...  \n",
       "2024-01-15          NaN  NaN               NaN               NaN         NaN  \n",
       "2024-01-16          NaN  NaN               NaN               NaN         NaN  \n",
       "2024-01-17          0.2  3.6               5.6               5.7         2.0  \n",
       "2024-01-18         -0.4  3.6               5.6               5.7         2.0  \n",
       "2024-01-19         -0.6  3.6               5.6               5.7         2.0  \n",
       "\n",
       "[2537 rows x 63 columns]"
      ]
     },
     "execution_count": 9,
     "metadata": {},
     "output_type": "execute_result"
    }
   ],
   "source": [
    "gdpnow"
   ]
  },
  {
   "cell_type": "markdown",
   "metadata": {},
   "source": [
    "## Let's define X and y"
   ]
  },
  {
   "cell_type": "code",
   "execution_count": 4,
   "metadata": {},
   "outputs": [],
   "source": [
    "Target = 'Final_GDP_Interp'\n",
    "Drop = ['GDP Nowcast', 'Final_GDP_Interp', 'Quarter being forecasted', 'Advance Estimate From BEA', 'Publication Date of Advance Estimate',\n",
    "       'Days until advance estimate', 'Forecast Error', 'Data releases']"
   ]
  },
  {
   "cell_type": "markdown",
   "metadata": {},
   "source": [
    "# How to deal with all the NAs ?\n",
    "\n",
    "From here on lets try two different datasets as in how to work with the NAs:\n",
    "1. ffil\n",
    "2. dropping NAs"
   ]
  },
  {
   "cell_type": "code",
   "execution_count": 5,
   "metadata": {},
   "outputs": [
    {
     "ename": "NameError",
     "evalue": "name 'gdpnow' is not defined",
     "output_type": "error",
     "traceback": [
      "\u001b[0;31m---------------------------------------------------------------------------\u001b[0m",
      "\u001b[0;31mNameError\u001b[0m                                 Traceback (most recent call last)",
      "Cell \u001b[0;32mIn[5], line 1\u001b[0m\n\u001b[0;32m----> 1\u001b[0m \u001b[38;5;28mlen\u001b[39m(\u001b[43mgdpnow\u001b[49m\u001b[38;5;241m.\u001b[39mcolumns)\n",
      "\u001b[0;31mNameError\u001b[0m: name 'gdpnow' is not defined"
     ]
    }
   ],
   "source": [
    "len(gdpnow.columns)"
   ]
  },
  {
   "cell_type": "code",
   "execution_count": 6,
   "metadata": {},
   "outputs": [
    {
     "ename": "NameError",
     "evalue": "name 'gdpnow' is not defined",
     "output_type": "error",
     "traceback": [
      "\u001b[0;31m---------------------------------------------------------------------------\u001b[0m",
      "\u001b[0;31mNameError\u001b[0m                                 Traceback (most recent call last)",
      "Cell \u001b[0;32mIn[6], line 1\u001b[0m\n\u001b[0;32m----> 1\u001b[0m gdpnow_filled \u001b[38;5;241m=\u001b[39m \u001b[43mgdpnow\u001b[49m\u001b[38;5;241m.\u001b[39mfillna(method\u001b[38;5;241m=\u001b[39m\u001b[38;5;124m'\u001b[39m\u001b[38;5;124mffill\u001b[39m\u001b[38;5;124m'\u001b[39m)\n\u001b[1;32m      2\u001b[0m \u001b[38;5;66;03m# Two variables are empty quite a lot\u001b[39;00m\n\u001b[1;32m      3\u001b[0m gdpnow_dropped \u001b[38;5;241m=\u001b[39m gdpnow\u001b[38;5;241m.\u001b[39mdropna(axis\u001b[38;5;241m=\u001b[39m\u001b[38;5;241m0\u001b[39m, thresh\u001b[38;5;241m=\u001b[39m\u001b[38;5;28mlen\u001b[39m(gdpnow\u001b[38;5;241m.\u001b[39mcolumns)\u001b[38;5;241m-\u001b[39m\u001b[38;5;241m2\u001b[39m)\n",
      "\u001b[0;31mNameError\u001b[0m: name 'gdpnow' is not defined"
     ]
    }
   ],
   "source": [
    "gdpnow_filled = gdpnow.fillna(method='ffill')\n",
    "# Two variables are empty quite a lot\n",
    "gdpnow_dropped = gdpnow.dropna(axis=0, thresh=len(gdpnow.columns)-2)"
   ]
  },
  {
   "cell_type": "code",
   "execution_count": 7,
   "metadata": {},
   "outputs": [
    {
     "data": {
      "text/plain": [
       "((2537, 63), (1496, 63))"
      ]
     },
     "execution_count": 7,
     "metadata": {},
     "output_type": "execute_result"
    }
   ],
   "source": [
    "gdpnow_filled.shape, gdpnow_dropped.shape"
   ]
  },
  {
   "cell_type": "markdown",
   "metadata": {},
   "source": [
    "# Defining X and y\n",
    "\n",
    "We now need the X and Y for the three different data sets"
   ]
  },
  {
   "cell_type": "code",
   "execution_count": 8,
   "metadata": {},
   "outputs": [],
   "source": [
    "# defining X and y for all three data sets (initial, dropped and filled)\n",
    "X = gdpnow.drop(columns=Drop)\n",
    "y = gdpnow[Target]\n",
    "\n",
    "X_filled = gdpnow_filled.drop(columns=Drop)\n",
    "y_filled = gdpnow_filled[Target]\n",
    "\n",
    "X_dropped = gdpnow_dropped.drop(columns=Drop)\n",
    "y_dropped = gdpnow_dropped[Target]\n",
    "\n",
    "assert(X.shape[0]==y.shape[0])\n",
    "assert(X_filled.shape[0]==y_filled.shape[0])\n",
    "assert(X_dropped.shape[0]==y_dropped.shape[0])"
   ]
  },
  {
   "cell_type": "code",
   "execution_count": 9,
   "metadata": {},
   "outputs": [],
   "source": [
    "# Splitting into test and train sets\n",
    "X_train, X_test, y_train, y_test = \\\n",
    "    train_test_split(X, y, test_size=0.20)\n",
    "\n",
    "X_filled_train, X_filled_test, y_filled_train, y_filled_test = \\\n",
    "    train_test_split(X_filled, y_filled, test_size=0.20)\n",
    "\n",
    "X_dropped_train, X_dropped_test, y_dropped_train, y_dropped_test = \\\n",
    "    train_test_split(X_dropped, y_dropped, test_size=0.20)\n"
   ]
  },
  {
   "cell_type": "markdown",
   "metadata": {},
   "source": [
    "# Pipeline"
   ]
  },
  {
   "cell_type": "code",
   "execution_count": 10,
   "metadata": {},
   "outputs": [],
   "source": [
    "preproc = Pipeline([\n",
    "    ('imputer', KNNImputer(n_neighbors=5)),\n",
    "    ('scaler', RobustScaler())\n",
    "])\n",
    "\n",
    "preproc_selector = Pipeline([\n",
    "    ('preprocessing', preproc),  # Include the preprocessing steps with PCA\n",
    "    ('feature_selection', SelectPercentile(\n",
    "        mutual_info_regression,\n",
    "        percentile=90 # Keep 90% of all features\n",
    "    ))\n",
    "])"
   ]
  },
  {
   "cell_type": "markdown",
   "metadata": {},
   "source": [
    "# Modeling"
   ]
  },
  {
   "cell_type": "code",
   "execution_count": 11,
   "metadata": {},
   "outputs": [],
   "source": [
    "#Modeling with initial dataset\n",
    "\n",
    "# model = XGBRegressor(random_state=42)\n",
    "\n",
    "# param_distributions = {\n",
    "#     'model__n_estimators': [200],\n",
    "#     'model__learning_rate': [0.1],\n",
    "#     'model__max_depth': [16, 20],\n",
    "# }\n",
    "\n",
    "# pipe = Pipeline([\n",
    "#     ('preprocessor', preproc),\n",
    "#     ('model', model)\n",
    "# ])\n",
    "\n",
    "# random_search = RandomizedSearchCV(\n",
    "#     pipe,\n",
    "#     param_distributions=param_distributions,\n",
    "#     n_iter=100,  # Number of parameter settings that are sampled. n_iter trades off runtime vs quality of the solution.\n",
    "#     scoring='r2',  # Assuming MSE is the metric of interest; adjust as needed.\n",
    "#     cv=5,\n",
    "#     verbose=2,\n",
    "#     #random_state=42,\n",
    "#     n_jobs=-1  # Use all available cores\n",
    "# )\n",
    "\n",
    "# random_search.fit(X_train, y_train)\n",
    "\n",
    "# print(\"Best parameters found: \", random_search.best_params_)\n",
    "# print(\"Best score found: \", random_search.best_score_)"
   ]
  },
  {
   "cell_type": "code",
   "execution_count": 12,
   "metadata": {},
   "outputs": [],
   "source": [
    "# random_search.score(X_test, y_test)"
   ]
  },
  {
   "cell_type": "code",
   "execution_count": 13,
   "metadata": {},
   "outputs": [],
   "source": [
    "# #Modeling with filled dataset\n",
    "\n",
    "# model = XGBRegressor(random_state=42)\n",
    "\n",
    "# param_distributions = {\n",
    "#     'model__n_estimators': [200],\n",
    "#     'model__learning_rate': [0.1],\n",
    "#     'model__max_depth': [16, 20],\n",
    "# }\n",
    "\n",
    "# pipe = Pipeline([\n",
    "#     ('preprocessor', preproc),\n",
    "#     ('model', model)\n",
    "# ])\n",
    "\n",
    "# random_search_filled = RandomizedSearchCV(\n",
    "#     pipe,\n",
    "#     param_distributions=param_distributions,\n",
    "#     n_iter=100,  # Number of parameter settings that are sampled. n_iter trades off runtime vs quality of the solution.\n",
    "#     scoring='neg_mean_absolute_error',  # Assuming MSE is the metric of interest; adjust as needed.\n",
    "#     cv=5,\n",
    "#     verbose=0,\n",
    "#     random_state=42,\n",
    "#     n_jobs=-1  # Use all available cores\n",
    "# )\n",
    "\n",
    "# random_search_filled.fit(X_filled_train, y_filled_train)\n",
    "\n",
    "# print(\"Best parameters found: \", random_search_filled.best_params_)\n",
    "# print(\"Best score found: \", random_search_filled.best_score_)"
   ]
  },
  {
   "cell_type": "code",
   "execution_count": 14,
   "metadata": {},
   "outputs": [],
   "source": [
    "# random_search_filled.score(X_filled_test, y_filled_test)"
   ]
  },
  {
   "cell_type": "code",
   "execution_count": 15,
   "metadata": {},
   "outputs": [
    {
     "name": "stdout",
     "output_type": "stream",
     "text": [
      "Fitting 5 folds for each of 2 candidates, totalling 10 fits\n"
     ]
    },
    {
     "name": "stderr",
     "output_type": "stream",
     "text": [
      "/Users/die_gregette/.pyenv/versions/3.10.6/envs/project-btm/lib/python3.10/site-packages/sklearn/model_selection/_search.py:307: UserWarning: The total space of parameters 2 is smaller than n_iter=100. Running 2 iterations. For exhaustive searches, use GridSearchCV.\n",
      "  warnings.warn(\n"
     ]
    },
    {
     "name": "stdout",
     "output_type": "stream",
     "text": [
      "[CV] END model__learning_rate=0.1, model__max_depth=16, model__n_estimators=200; total time=   2.8s\n",
      "[CV] END model__learning_rate=0.1, model__max_depth=16, model__n_estimators=200; total time=   2.8s\n",
      "[CV] END model__learning_rate=0.1, model__max_depth=16, model__n_estimators=200; total time=   2.9s\n",
      "[CV] END model__learning_rate=0.1, model__max_depth=16, model__n_estimators=200; total time=   2.9s\n",
      "[CV] END model__learning_rate=0.1, model__max_depth=16, model__n_estimators=200; total time=   2.9s\n",
      "[CV] END model__learning_rate=0.1, model__max_depth=20, model__n_estimators=200; total time=   3.1s\n",
      "[CV] END model__learning_rate=0.1, model__max_depth=20, model__n_estimators=200; total time=   3.1s\n",
      "[CV] END model__learning_rate=0.1, model__max_depth=20, model__n_estimators=200; total time=   3.1s\n",
      "[CV] END model__learning_rate=0.1, model__max_depth=20, model__n_estimators=200; total time=   1.7s\n",
      "[CV] END model__learning_rate=0.1, model__max_depth=20, model__n_estimators=200; total time=   1.7s\n",
      "Best parameters found:  {'model__n_estimators': 200, 'model__max_depth': 16, 'model__learning_rate': 0.1}\n",
      "Best score found:  -0.26788095670670675\n"
     ]
    }
   ],
   "source": [
    "#Modeling with 'dropped' dataset\n",
    "\n",
    "model = XGBRegressor(random_state=42)\n",
    "\n",
    "param_distributions = {\n",
    "    'model__n_estimators': [200],\n",
    "    'model__learning_rate': [0.1],\n",
    "    'model__max_depth': [16, 20],\n",
    "}\n",
    "\n",
    "pipe = Pipeline([\n",
    "    ('preprocessor', preproc),\n",
    "    ('model', model)\n",
    "])\n",
    "\n",
    "random_search_dropped = RandomizedSearchCV(\n",
    "    pipe,\n",
    "    param_distributions=param_distributions,\n",
    "    n_iter=100,  # Number of parameter settings that are sampled. n_iter trades off runtime vs quality of the solution.\n",
    "    scoring='neg_mean_absolute_error',  # Assuming MSE is the metric of interest; adjust as needed.\n",
    "    cv=5,\n",
    "    verbose=2,\n",
    "    random_state=42,\n",
    "    n_jobs=-1  # Use all available cores\n",
    ")\n",
    "\n",
    "random_search_dropped.fit(X_dropped_train, y_dropped_train)\n",
    "\n",
    "print(\"Best parameters found: \", random_search_dropped.best_params_)\n",
    "print(\"Best score found: \", random_search_dropped.best_score_)"
   ]
  },
  {
   "cell_type": "code",
   "execution_count": 16,
   "metadata": {},
   "outputs": [
    {
     "data": {
      "text/plain": [
       "-0.19741370504145783"
      ]
     },
     "execution_count": 16,
     "metadata": {},
     "output_type": "execute_result"
    }
   ],
   "source": [
    "random_search_dropped.score(X_dropped_test, y_dropped_test)"
   ]
  },
  {
   "cell_type": "code",
   "execution_count": 17,
   "metadata": {},
   "outputs": [],
   "source": [
    "y_dropped_pred = random_search_dropped.predict(X_dropped_test)"
   ]
  },
  {
   "cell_type": "code",
   "execution_count": 18,
   "metadata": {},
   "outputs": [
    {
     "name": "stdout",
     "output_type": "stream",
     "text": [
      "Train MAE: 0.0007422393136483038\n",
      "Test MAE: 0.19741370504145783\n",
      "Train R^2: 0.9999999713882043\n",
      "Test R^2: 0.9815959064010407\n"
     ]
    }
   ],
   "source": [
    "from sklearn.metrics import mean_absolute_error, r2_score\n",
    "\n",
    "# Calculate evaluation metrics\n",
    "mae_train = mean_absolute_error(y_dropped_train, random_search_dropped.predict(X_dropped_train))\n",
    "mae_test = mean_absolute_error(y_dropped_test, random_search_dropped.predict(X_dropped_test))\n",
    "r2_train = r2_score(y_dropped_train, random_search_dropped.predict(X_dropped_train))\n",
    "r2_test = r2_score(y_dropped_test, random_search_dropped.predict(X_dropped_test))\n",
    "\n",
    "print(\"Train MAE:\", mae_train)\n",
    "print(\"Test MAE:\", mae_test)\n",
    "print(\"Train R^2:\", r2_train)\n",
    "print(\"Test R^2:\", r2_test)"
   ]
  },
  {
   "cell_type": "markdown",
   "metadata": {},
   "source": [
    "# Finetuning"
   ]
  },
  {
   "cell_type": "markdown",
   "metadata": {},
   "source": [
    "### Using a feature selector"
   ]
  },
  {
   "cell_type": "markdown",
   "metadata": {},
   "source": [
    "We have shown that either filling in or dropping gives way more promising results than just imputing\n",
    "\n",
    "Thus, we will focus on these approaches"
   ]
  },
  {
   "cell_type": "code",
   "execution_count": 19,
   "metadata": {},
   "outputs": [],
   "source": [
    "#Modeling with filled dataset\n",
    "\n",
    "# model = XGBRegressor(random_state=42)\n",
    "\n",
    "# param_distributions = {\n",
    "#     'model__n_estimators': [200],\n",
    "#     'model__learning_rate': stats.uniform(0.01 , 0.5),\n",
    "#     'model__max_depth': [16, 20],\n",
    "#      'preprocessor_selector__feature_selection__percentile': [60, 70, 80, 90],\n",
    "# }\n",
    "\n",
    "# pipe = Pipeline([\n",
    "#     ('preprocessor_selector', preproc_selector),\n",
    "#     ('model', model)\n",
    "# ])\n",
    "\n",
    "# random_search_filled = RandomizedSearchCV(\n",
    "#     pipe,\n",
    "#     param_distributions=param_distributions,\n",
    "#     n_iter=100,  # Number of parameter settings that are sampled. n_iter trades off runtime vs quality of the solution.\n",
    "#     scoring='neg_mean_absolute_error',  # Assuming MSE is the metric of interest; adjust as needed.\n",
    "#     cv=5,\n",
    "#     verbose=0,\n",
    "#     random_state=42,\n",
    "#     n_jobs=-1  # Use all available cores\n",
    "# )\n",
    "\n",
    "# random_search_filled.fit(X_filled_train, y_filled_train)\n",
    "\n",
    "# print(\"Best parameters found: \", random_search_filled.best_params_)\n",
    "# print(\"Best score found: \", random_search_filled.best_score_)"
   ]
  },
  {
   "cell_type": "code",
   "execution_count": 40,
   "metadata": {},
   "outputs": [
    {
     "name": "stderr",
     "output_type": "stream",
     "text": [
      "/Users/die_gregette/.pyenv/versions/3.10.6/envs/project-btm/lib/python3.10/site-packages/joblib/externals/loky/process_executor.py:752: UserWarning: A worker stopped while some jobs were given to the executor. This can be caused by a too short worker timeout or by a memory leak.\n",
      "  warnings.warn(\n"
     ]
    },
    {
     "name": "stdout",
     "output_type": "stream",
     "text": [
      "Best parameters found:  {'model__learning_rate': 0.2793508989763571, 'model__max_depth': 9, 'model__n_estimators': 105, 'preprocessor_selector__feature_selection__percentile': 43.47394011251784}\n",
      "Best score found:  -0.19153434957374046\n"
     ]
    }
   ],
   "source": [
    "#Modeling with dropped dataset\n",
    "\n",
    "model = XGBRegressor(random_state=42)\n",
    "\n",
    "param_distributions = {\n",
    "    'model__n_estimators': stats.randint(100,300),\n",
    "    'model__learning_rate': stats.uniform(0.01 , 0.5),\n",
    "    'model__max_depth': stats.randint(6,20),\n",
    "    'preprocessor_selector__feature_selection__percentile': stats.uniform(10,90),\n",
    "}\n",
    "\n",
    "pipe = Pipeline([\n",
    "    ('preprocessor_selector', preproc_selector),\n",
    "    ('model', model)\n",
    "])\n",
    "\n",
    "random_search_dropped = RandomizedSearchCV(\n",
    "    pipe,\n",
    "    param_distributions=param_distributions,\n",
    "    n_iter=1000,  # Number of parameter settings that are sampled. n_iter trades off runtime vs quality of the solution.\n",
    "    scoring='neg_mean_absolute_error',  # Assuming MSE is the metric of interest; adjust as needed.\n",
    "    cv=5,\n",
    "    verbose=0,\n",
    "    random_state=42,\n",
    "    n_jobs=-1  # Use all available cores\n",
    ")\n",
    "\n",
    "random_search_dropped.fit(X_dropped_train, y_dropped_train)\n",
    "\n",
    "print(\"Best parameters found: \", random_search_dropped.best_params_)\n",
    "print(\"Best score found: \", random_search_dropped.best_score_)"
   ]
  },
  {
   "cell_type": "code",
   "execution_count": 41,
   "metadata": {},
   "outputs": [
    {
     "data": {
      "text/plain": [
       "-0.18776662957460688"
      ]
     },
     "execution_count": 41,
     "metadata": {},
     "output_type": "execute_result"
    }
   ],
   "source": [
    "random_search_dropped.score(X_dropped_test, y_dropped_test)\n",
    "# {'model__learning_rate': 0.2793508989763571, 'model__max_depth': 9, 'model__n_estimators': 105, 'preprocessor_selector__feature_selection__percentile': 43.47394011251784}"
   ]
  },
  {
   "cell_type": "code",
   "execution_count": null,
   "metadata": {},
   "outputs": [],
   "source": [
    "# {'model__learning_rate': 0.27629471627579294, 'model__max_depth': 12, 'model__n_estimators': 200, 'preprocessor_selector__feature_selection__percentile': 43.23074333589065}"
   ]
  },
  {
   "cell_type": "code",
   "execution_count": 22,
   "metadata": {},
   "outputs": [],
   "source": [
    "y_pred = random_search_dropped.predict(X_dropped_test)"
   ]
  },
  {
   "cell_type": "code",
   "execution_count": 23,
   "metadata": {},
   "outputs": [],
   "source": [
    "y_pred = pd.Series(y_pred).reset_index(drop = True)"
   ]
  },
  {
   "cell_type": "code",
   "execution_count": 24,
   "metadata": {},
   "outputs": [
    {
     "data": {
      "text/html": [
       "<div>\n",
       "<style scoped>\n",
       "    .dataframe tbody tr th:only-of-type {\n",
       "        vertical-align: middle;\n",
       "    }\n",
       "\n",
       "    .dataframe tbody tr th {\n",
       "        vertical-align: top;\n",
       "    }\n",
       "\n",
       "    .dataframe thead th {\n",
       "        text-align: right;\n",
       "    }\n",
       "</style>\n",
       "<table border=\"1\" class=\"dataframe\">\n",
       "  <thead>\n",
       "    <tr style=\"text-align: right;\">\n",
       "      <th></th>\n",
       "      <th>Days until advance estimate</th>\n",
       "      <th>Final_GDP_Interp</th>\n",
       "      <th>0</th>\n",
       "    </tr>\n",
       "    <tr>\n",
       "      <th>Dates</th>\n",
       "      <th></th>\n",
       "      <th></th>\n",
       "      <th></th>\n",
       "    </tr>\n",
       "  </thead>\n",
       "  <tbody>\n",
       "    <tr>\n",
       "      <th>2019-07-12</th>\n",
       "      <td>14.0</td>\n",
       "      <td>2.230769</td>\n",
       "      <td>2.227014</td>\n",
       "    </tr>\n",
       "    <tr>\n",
       "      <th>2015-02-23</th>\n",
       "      <td>65.0</td>\n",
       "      <td>1.995506</td>\n",
       "      <td>1.950356</td>\n",
       "    </tr>\n",
       "    <tr>\n",
       "      <th>2023-09-19</th>\n",
       "      <td>37.0</td>\n",
       "      <td>3.875714</td>\n",
       "      <td>3.742326</td>\n",
       "    </tr>\n",
       "    <tr>\n",
       "      <th>2020-02-26</th>\n",
       "      <td>63.0</td>\n",
       "      <td>0.022000</td>\n",
       "      <td>0.491107</td>\n",
       "    </tr>\n",
       "    <tr>\n",
       "      <th>2015-10-02</th>\n",
       "      <td>27.0</td>\n",
       "      <td>1.736264</td>\n",
       "      <td>1.708955</td>\n",
       "    </tr>\n",
       "    <tr>\n",
       "      <th>...</th>\n",
       "      <td>...</td>\n",
       "      <td>...</td>\n",
       "      <td>...</td>\n",
       "    </tr>\n",
       "    <tr>\n",
       "      <th>2018-05-11</th>\n",
       "      <td>77.0</td>\n",
       "      <td>2.587692</td>\n",
       "      <td>2.701230</td>\n",
       "    </tr>\n",
       "    <tr>\n",
       "      <th>2023-10-27</th>\n",
       "      <td>90.0</td>\n",
       "      <td>4.861412</td>\n",
       "      <td>4.749522</td>\n",
       "    </tr>\n",
       "    <tr>\n",
       "      <th>2019-12-23</th>\n",
       "      <td>38.0</td>\n",
       "      <td>2.013913</td>\n",
       "      <td>2.008334</td>\n",
       "    </tr>\n",
       "    <tr>\n",
       "      <th>2014-12-23</th>\n",
       "      <td>38.0</td>\n",
       "      <td>3.015870</td>\n",
       "      <td>2.984904</td>\n",
       "    </tr>\n",
       "    <tr>\n",
       "      <th>2016-01-14</th>\n",
       "      <td>15.0</td>\n",
       "      <td>0.820435</td>\n",
       "      <td>0.819883</td>\n",
       "    </tr>\n",
       "  </tbody>\n",
       "</table>\n",
       "<p>300 rows × 3 columns</p>\n",
       "</div>"
      ],
      "text/plain": [
       "            Days until advance estimate  Final_GDP_Interp         0\n",
       "Dates                                                              \n",
       "2019-07-12                         14.0          2.230769  2.227014\n",
       "2015-02-23                         65.0          1.995506  1.950356\n",
       "2023-09-19                         37.0          3.875714  3.742326\n",
       "2020-02-26                         63.0          0.022000  0.491107\n",
       "2015-10-02                         27.0          1.736264  1.708955\n",
       "...                                 ...               ...       ...\n",
       "2018-05-11                         77.0          2.587692  2.701230\n",
       "2023-10-27                         90.0          4.861412  4.749522\n",
       "2019-12-23                         38.0          2.013913  2.008334\n",
       "2014-12-23                         38.0          3.015870  2.984904\n",
       "2016-01-14                         15.0          0.820435  0.819883\n",
       "\n",
       "[300 rows x 3 columns]"
      ]
     },
     "execution_count": 24,
     "metadata": {},
     "output_type": "execute_result"
    }
   ],
   "source": [
    "y_pred.index = y_dropped_test.index\n",
    "from sklearn.preprocessing import MinMaxScaler\n",
    "scaler = MinMaxScaler()\n",
    "df_plot = pd.concat([gdpnow.loc[X_dropped_test.index]['Days until advance estimate'], y_dropped_test, y_pred], axis=1)\n",
    "df_plot"
   ]
  },
  {
   "cell_type": "code",
   "execution_count": 25,
   "metadata": {},
   "outputs": [
    {
     "data": {
      "image/png": "[encoded data removed]",
      "text/plain": [
       "<Figure size 1000x600 with 2 Axes>"
      ]
     },
     "metadata": {},
     "output_type": "display_data"
    }
   ],
   "source": [
    "a=[-30,30]\n",
    "b=[-30,30]\n",
    "\n",
    "plt.figure(figsize=(10, 6))\n",
    "plt.plot(a,b)\n",
    "scatter = plt.scatter(df_plot['Final_GDP_Interp'], df_plot[0], c=df_plot['Days until advance estimate'], cmap='viridis')\n",
    "plt.colorbar(scatter, label='Days until advance estimate')\n",
    "plt.xlabel('Final_GDP_Interp')\n",
    "plt.ylabel('Third Column')\n",
    "plt.title('Scatter Plot with Color Coding')\n",
    "plt.grid(True)\n",
    "plt.show()"
   ]
  },
  {
   "cell_type": "markdown",
   "metadata": {},
   "source": [
    "# Comparing scores with GDPNOW"
   ]
  },
  {
   "cell_type": "code",
   "execution_count": 26,
   "metadata": {},
   "outputs": [],
   "source": [
    "gdpnow_test = gdpnow_dropped['GDP Nowcast']\n",
    "gdpnow_test = gdpnow_test.interpolate(method='time')\n",
    "gdp_test = gdpnow_dropped['Final_GDP_Interp']"
   ]
  },
  {
   "cell_type": "code",
   "execution_count": 27,
   "metadata": {},
   "outputs": [],
   "source": [
    "def forecast_accuracy(y_pred: pd.Series, y_true: pd.Series) -> float:\n",
    "\n",
    "    mape = np.mean(np.abs(y_pred - y_true)/np.abs(y_true))  # Mean Absolute Percentage Error\n",
    "    me = np.mean(y_pred - y_true)             # ME\n",
    "    mae = np.mean(np.abs(y_pred - y_true))    # MAE\n",
    "    mpe = np.mean((y_pred - y_true)/y_true)   # MPE\n",
    "    rmse = np.mean((y_pred - y_true)**2)**.5  # RMSE\n",
    "    corr = np.corrcoef(y_pred, y_true)[0,1]   # Correlation between the Actual and the Forecast\n",
    "    if type(y_pred) == pd.Series:\n",
    "        mins = np.amin(np.hstack([y_pred.values.reshape(-1,1), y_true.values.reshape(-1,1)]), axis=1)\n",
    "        maxs = np.amax(np.hstack([y_pred.values.reshape(-1,1), y_true.values.reshape(-1,1)]), axis=1)\n",
    "    else:\n",
    "        mins = np.amin(np.hstack([y_pred.reshape(-1,1), y_true.values.reshape(-1,1)]), axis=1)\n",
    "        maxs = np.amax(np.hstack([y_pred.reshape(-1,1), y_true.values.reshape(-1,1)]), axis=1)\n",
    "    minmax = 1 - np.mean(mins/maxs)             # minmax\n",
    "    acf1 = acf(y_pred-y_true, fft=False)[1]                      # Lag 1 Autocorrelation of Error\n",
    "\n",
    "    forecast = ({\n",
    "        'mape':mape,\n",
    "        'me':me,\n",
    "        'mae': mae,\n",
    "        'mpe': mpe,\n",
    "        'rmse':rmse,\n",
    "        'acf1':acf1,\n",
    "        'corr':corr,\n",
    "        'minmax':minmax\n",
    "    })\n",
    "\n",
    "    return forecast"
   ]
  },
  {
   "cell_type": "code",
   "execution_count": 28,
   "metadata": {},
   "outputs": [
    {
     "data": {
      "text/plain": [
       "{'mape': 0.13620878035938613,\n",
       " 'me': 0.059304090924589326,\n",
       " 'mae': 0.1892530569865535,\n",
       " 'mpe': 0.05550339531507021,\n",
       " 'rmse': 0.9132816288543603,\n",
       " 'acf1': -0.02354532829797496,\n",
       " 'corr': 0.9877232142049297,\n",
       " 'minmax': 0.026041872506264996}"
      ]
     },
     "execution_count": 28,
     "metadata": {},
     "output_type": "execute_result"
    }
   ],
   "source": [
    "forecast_accuracy(random_search_dropped.predict(X_dropped_test), y_dropped_test)"
   ]
  },
  {
   "cell_type": "code",
   "execution_count": 29,
   "metadata": {},
   "outputs": [
    {
     "name": "stderr",
     "output_type": "stream",
     "text": [
      "/var/folders/m3/r24zxwy93v34dzftq6dr3sjw0000gn/T/ipykernel_8226/1438552970.py:15: RuntimeWarning: divide by zero encountered in divide\n",
      "  minmax = 1 - np.mean(mins/maxs)             # minmax\n"
     ]
    },
    {
     "data": {
      "text/plain": [
       "{'mape': 1.0052173257056338,\n",
       " 'me': 0.4431112847125225,\n",
       " 'mae': 2.7196656763835896,\n",
       " 'mpe': 0.22596797133268812,\n",
       " 'rmse': 7.243805910567935,\n",
       " 'acf1': 0.9706041856039092,\n",
       " 'corr': 0.5693452275251626,\n",
       " 'minmax': inf}"
      ]
     },
     "execution_count": 29,
     "metadata": {},
     "output_type": "execute_result"
    }
   ],
   "source": [
    "forecast_accuracy(gdpnow_test,gdp_test)"
   ]
  },
  {
   "cell_type": "markdown",
   "metadata": {},
   "source": [
    "# Learning curves"
   ]
  },
  {
   "cell_type": "code",
   "execution_count": 36,
   "metadata": {},
   "outputs": [
    {
     "data": {
      "text/plain": [
       "((1496, 49), (1496, 55))"
      ]
     },
     "execution_count": 36,
     "metadata": {},
     "output_type": "execute_result"
    }
   ],
   "source": [
    "# preproc_selector\n",
    "X_scaled = preproc_selector.fit_transform(X_dropped, y_dropped)"
   ]
  },
  {
   "cell_type": "code",
   "execution_count": 37,
   "metadata": {},
   "outputs": [
    {
     "name": "stderr",
     "output_type": "stream",
     "text": [
      "/Users/die_gregette/.pyenv/versions/3.10.6/envs/project-btm/lib/python3.10/site-packages/joblib/externals/loky/process_executor.py:752: UserWarning: A worker stopped while some jobs were given to the executor. This can be caused by a too short worker timeout or by a memory leak.\n",
      "  warnings.warn(\n",
      "/Users/die_gregette/.pyenv/versions/3.10.6/envs/project-btm/lib/python3.10/site-packages/joblib/externals/loky/process_executor.py:752: UserWarning: A worker stopped while some jobs were given to the executor. This can be caused by a too short worker timeout or by a memory leak.\n",
      "  warnings.warn(\n",
      "/Users/die_gregette/.pyenv/versions/3.10.6/envs/project-btm/lib/python3.10/site-packages/joblib/externals/loky/process_executor.py:752: UserWarning: A worker stopped while some jobs were given to the executor. This can be caused by a too short worker timeout or by a memory leak.\n",
      "  warnings.warn(\n",
      "/Users/die_gregette/.pyenv/versions/3.10.6/envs/project-btm/lib/python3.10/site-packages/joblib/externals/loky/process_executor.py:752: UserWarning: A worker stopped while some jobs were given to the executor. This can be caused by a too short worker timeout or by a memory leak.\n",
      "  warnings.warn(\n",
      "/Users/die_gregette/.pyenv/versions/3.10.6/envs/project-btm/lib/python3.10/site-packages/joblib/externals/loky/process_executor.py:752: UserWarning: A worker stopped while some jobs were given to the executor. This can be caused by a too short worker timeout or by a memory leak.\n",
      "  warnings.warn(\n",
      "/Users/die_gregette/.pyenv/versions/3.10.6/envs/project-btm/lib/python3.10/site-packages/joblib/externals/loky/process_executor.py:752: UserWarning: A worker stopped while some jobs were given to the executor. This can be caused by a too short worker timeout or by a memory leak.\n",
      "  warnings.warn(\n",
      "/Users/die_gregette/.pyenv/versions/3.10.6/envs/project-btm/lib/python3.10/site-packages/joblib/externals/loky/process_executor.py:752: UserWarning: A worker stopped while some jobs were given to the executor. This can be caused by a too short worker timeout or by a memory leak.\n",
      "  warnings.warn(\n",
      "/Users/die_gregette/.pyenv/versions/3.10.6/envs/project-btm/lib/python3.10/site-packages/joblib/externals/loky/process_executor.py:752: UserWarning: A worker stopped while some jobs were given to the executor. This can be caused by a too short worker timeout or by a memory leak.\n",
      "  warnings.warn(\n",
      "/Users/die_gregette/.pyenv/versions/3.10.6/envs/project-btm/lib/python3.10/site-packages/joblib/externals/loky/process_executor.py:752: UserWarning: A worker stopped while some jobs were given to the executor. This can be caused by a too short worker timeout or by a memory leak.\n",
      "  warnings.warn(\n",
      "/Users/die_gregette/.pyenv/versions/3.10.6/envs/project-btm/lib/python3.10/site-packages/joblib/externals/loky/process_executor.py:752: UserWarning: A worker stopped while some jobs were given to the executor. This can be caused by a too short worker timeout or by a memory leak.\n",
      "  warnings.warn(\n",
      "/Users/die_gregette/.pyenv/versions/3.10.6/envs/project-btm/lib/python3.10/site-packages/joblib/externals/loky/process_executor.py:752: UserWarning: A worker stopped while some jobs were given to the executor. This can be caused by a too short worker timeout or by a memory leak.\n",
      "  warnings.warn(\n",
      "/Users/die_gregette/.pyenv/versions/3.10.6/envs/project-btm/lib/python3.10/site-packages/joblib/externals/loky/process_executor.py:752: UserWarning: A worker stopped while some jobs were given to the executor. This can be caused by a too short worker timeout or by a memory leak.\n",
      "  warnings.warn(\n",
      "/Users/die_gregette/.pyenv/versions/3.10.6/envs/project-btm/lib/python3.10/site-packages/joblib/externals/loky/process_executor.py:752: UserWarning: A worker stopped while some jobs were given to the executor. This can be caused by a too short worker timeout or by a memory leak.\n",
      "  warnings.warn(\n",
      "/Users/die_gregette/.pyenv/versions/3.10.6/envs/project-btm/lib/python3.10/site-packages/joblib/externals/loky/process_executor.py:752: UserWarning: A worker stopped while some jobs were given to the executor. This can be caused by a too short worker timeout or by a memory leak.\n",
      "  warnings.warn(\n",
      "/Users/die_gregette/.pyenv/versions/3.10.6/envs/project-btm/lib/python3.10/site-packages/joblib/externals/loky/process_executor.py:752: UserWarning: A worker stopped while some jobs were given to the executor. This can be caused by a too short worker timeout or by a memory leak.\n",
      "  warnings.warn(\n"
     ]
    },
    {
     "data": {
      "text/plain": [
       "<matplotlib.legend.Legend at 0x15f9287c0>"
      ]
     },
     "execution_count": 37,
     "metadata": {},
     "output_type": "execute_result"
    },
    {
     "data": {
      "image/png": "[encoded data removed]",
      "text/plain": [
       "<Figure size 640x480 with 1 Axes>"
      ]
     },
     "metadata": {},
     "output_type": "display_data"
    }
   ],
   "source": [
    "train_sizes = [25,50,75,100,250,500,750,1000,1150]\n",
    "\n",
    "# Get train scores (R2), train sizes, and validation scores using `learning_curve`\n",
    "train_sizes, train_scores, test_scores = learning_curve(\n",
    "    estimator=random_search_dropped, X=X_dropped, y=y_dropped,\n",
    "    train_sizes=train_sizes, cv=5, scoring='neg_mean_absolute_error')\n",
    "\n",
    "train_scores_mean = np.mean(train_scores, axis=1)\n",
    "test_scores_mean = np.mean(test_scores, axis=1)\n",
    "\n",
    "plt.plot(train_sizes, train_scores_mean, label = 'Training score')\n",
    "plt.plot(train_sizes, test_scores_mean, label = 'Test score')\n",
    "plt.ylabel('neg_mean_absolute_error', fontsize = 14)\n",
    "plt.legend(loc=\"best\")\n"
   ]
  }
 ],
 "metadata": {
  "kernelspec": {
   "display_name": "project-btm",
   "language": "python",
   "name": "python3"
  },
  "language_info": {
   "codemirror_mode": {
    "name": "ipython",
    "version": 3
   },
   "file_extension": ".py",
   "mimetype": "text/x-python",
   "name": "python",
   "nbconvert_exporter": "python",
   "pygments_lexer": "ipython3",
   "version": "3.10.6"
  }
 },
 "nbformat": 4,
 "nbformat_minor": 2
}
